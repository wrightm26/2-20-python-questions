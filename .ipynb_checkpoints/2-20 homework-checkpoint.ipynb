{
 "cells": [
  {
   "cell_type": "markdown",
   "id": "93c585cf",
   "metadata": {},
   "source": [
    "Exercise #1\n",
    "Cube Number Test... Print out all cubed numbers up to the total value 1000. Meaning that if the cubed number is over 1000 break the loop."
   ]
  },
  {
   "cell_type": "code",
   "execution_count": 1,
   "id": "c30aea51",
   "metadata": {},
   "outputs": [
    {
     "name": "stdout",
     "output_type": "stream",
     "text": [
      "1\n",
      "8\n",
      "27\n",
      "64\n",
      "125\n",
      "216\n",
      "343\n",
      "512\n",
      "729\n",
      "1000\n"
     ]
    }
   ],
   "source": [
    "list_num = [1, 2, 3, 4, 5, 6, 7, 8, 9, 10]\n",
    "\n",
    "for i in list_num:\n",
    "    i = i ** 3\n",
    "    print(i)\n",
    "   "
   ]
  },
  {
   "cell_type": "markdown",
   "id": "071228ff",
   "metadata": {},
   "source": [
    "Exercise #2\n",
    "Get first prime numbers up to 100"
   ]
  },
  {
   "cell_type": "code",
   "execution_count": 2,
   "id": "93014416",
   "metadata": {},
   "outputs": [
    {
     "name": "stdout",
     "output_type": "stream",
     "text": [
      "1\n",
      "3\n",
      "5\n",
      "7\n",
      "9\n",
      "11\n",
      "13\n",
      "15\n",
      "17\n",
      "19\n",
      "21\n",
      "23\n",
      "25\n",
      "27\n",
      "29\n",
      "31\n",
      "33\n",
      "35\n",
      "37\n",
      "39\n",
      "41\n",
      "43\n",
      "45\n",
      "47\n",
      "49\n",
      "51\n",
      "53\n",
      "55\n",
      "57\n",
      "59\n",
      "61\n",
      "63\n",
      "65\n",
      "67\n",
      "69\n",
      "71\n",
      "73\n",
      "75\n",
      "77\n",
      "79\n",
      "81\n",
      "83\n",
      "85\n",
      "87\n",
      "89\n",
      "91\n",
      "93\n",
      "95\n",
      "97\n",
      "99\n"
     ]
    }
   ],
   "source": [
    "num = 0\n",
    "\n",
    "while num < 100:\n",
    "    num += 1\n",
    "    if num % 2 == 1:\n",
    "        print(num)\n",
    "        continue\n",
    "    \n",
    "        \n"
   ]
  },
  {
   "cell_type": "markdown",
   "id": "e99a89c1",
   "metadata": {},
   "source": [
    "Exercise 3\n",
    "Take in a users input for their age, if they are younger than 18 print kids, if they're 18 to 65 print adults, else print seniors"
   ]
  },
  {
   "cell_type": "code",
   "execution_count": 3,
   "id": "efb554f3",
   "metadata": {},
   "outputs": [
    {
     "name": "stdout",
     "output_type": "stream",
     "text": [
      "How old are you?56\n",
      "adults\n"
     ]
    }
   ],
   "source": [
    "age = input(\"How old are you?\")\n",
    "age_int = int(age)\n",
    "\n",
    "if age_int < 18:\n",
    "    print('kids')\n",
    "elif age_int <= 18 or age_int < 65:\n",
    "    print('adults')\n",
    "else:\n",
    "    print('seniors')"
   ]
  },
  {
   "cell_type": "code",
   "execution_count": 4,
   "id": "59b21141",
   "metadata": {},
   "outputs": [
    {
     "data": {
      "text/plain": [
       "4"
      ]
     },
     "execution_count": 4,
     "metadata": {},
     "output_type": "execute_result"
    }
   ],
   "source": [
    "4\n"
   ]
  },
  {
   "cell_type": "code",
   "execution_count": null,
   "id": "7c0795dc",
   "metadata": {},
   "outputs": [],
   "source": []
  }
 ],
 "metadata": {
  "kernelspec": {
   "display_name": "Python 3 (ipykernel)",
   "language": "python",
   "name": "python3"
  },
  "language_info": {
   "codemirror_mode": {
    "name": "ipython",
    "version": 3
   },
   "file_extension": ".py",
   "mimetype": "text/x-python",
   "name": "python",
   "nbconvert_exporter": "python",
   "pygments_lexer": "ipython3",
   "version": "3.9.13"
  }
 },
 "nbformat": 4,
 "nbformat_minor": 5
}
