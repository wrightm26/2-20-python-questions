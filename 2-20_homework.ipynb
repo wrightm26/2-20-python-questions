{
 "cells": [
  {
   "cell_type": "markdown",
   "id": "93c585cf",
   "metadata": {},
   "source": [
    "Exercise #1\n",
    "Cube Number Test... Print out all cubed numbers up to the total value 1000. Meaning that if the cubed number is over 1000 break the loop."
   ]
  },
  {
   "cell_type": "code",
   "execution_count": 1,
   "id": "c30aea51",
   "metadata": {},
   "outputs": [
    {
     "name": "stdout",
     "output_type": "stream",
     "text": [
      "1\n",
      "8\n",
      "27\n",
      "64\n",
      "125\n",
      "216\n",
      "343\n",
      "512\n",
      "729\n",
      "1000\n"
     ]
    }
   ],
   "source": [
    "list_num = [1, 2, 3, 4, 5, 6, 7, 8, 9, 10]\n",
    "\n",
    "for i in list_num:\n",
    "    i = i ** 3\n",
    "    print(i)\n",
    "   "
   ]
  },
  {
   "cell_type": "markdown",
   "id": "071228ff",
   "metadata": {},
   "source": [
    "Exercise #2\n",
    "Get first prime numbers up to 100"
   ]
  },
  {
   "cell_type": "code",
   "execution_count": 1,
   "id": "ee42824b",
   "metadata": {},
   "outputs": [
    {
     "name": "stdout",
     "output_type": "stream",
     "text": [
      "[2, 3, 5, 7, 11, 13, 17, 19, 23, 29, 31, 37, 41, 43, 47, 53, 59, 61, 67, 71, 73, 79, 83, 89, 97]\n"
     ]
    }
   ],
   "source": [
    "prime_numbers = []\n",
    "\n",
    "for i in range(2,100):\n",
    "    for num in prime_numbers:\n",
    "        if i % num == 0:\n",
    "            break\n",
    "    else:\n",
    "        prime_numbers.append(i)\n",
    "        \n",
    "print(prime_numbers)\n",
    "    \n",
    "        \n",
    "    \n",
    "           \n",
    "    \n",
    "        \n",
    "        \n"
   ]
  },
  {
   "cell_type": "markdown",
   "id": "e99a89c1",
   "metadata": {},
   "source": [
    "Exercise 3\n",
    "Take in a users input for their age, if they are younger than 18 print kids, if they're 18 to 65 print adults, else print seniors"
   ]
  },
  {
   "cell_type": "code",
   "execution_count": 3,
   "id": "efb554f3",
   "metadata": {},
   "outputs": [
    {
     "name": "stdout",
     "output_type": "stream",
     "text": [
      "How old are you?56\n",
      "adults\n"
     ]
    }
   ],
   "source": [
    "age = input(\"How old are you?\")\n",
    "age_int = int(age)\n",
    "\n",
    "if age_int < 18:\n",
    "    print('kids')\n",
    "elif age_int <= 18 or age_int < 65:\n",
    "    print('adults')\n",
    "else:\n",
    "    print('seniors')"
   ]
  },
  {
   "cell_type": "code",
   "execution_count": 4,
   "id": "f6893020",
   "metadata": {},
   "outputs": [
    {
     "data": {
      "text/plain": [
       "4"
      ]
     },
     "execution_count": 4,
     "metadata": {},
     "output_type": "execute_result"
    }
   ],
   "source": [
    "4\n"
   ]
  },
  {
   "cell_type": "code",
   "execution_count": null,
   "id": "356e4795",
   "metadata": {},
   "outputs": [],
   "source": []
  }
 ],
 "metadata": {
  "kernelspec": {
   "display_name": "Python 3 (ipykernel)",
   "language": "python",
   "name": "python3"
  },
  "language_info": {
   "codemirror_mode": {
    "name": "ipython",
    "version": 3
   },
   "file_extension": ".py",
   "mimetype": "text/x-python",
   "name": "python",
   "nbconvert_exporter": "python",
   "pygments_lexer": "ipython3",
   "version": "3.9.13"
  }
 },
 "nbformat": 4,
 "nbformat_minor": 5
}
